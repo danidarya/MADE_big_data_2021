{
 "cells": [
  {
   "cell_type": "code",
   "execution_count": 0,
   "metadata": {
    "autoscroll": "auto"
   },
   "outputs": [],
   "source": [
    "spark"
   ]
  },
  {
   "cell_type": "code",
   "execution_count": 1,
   "metadata": {
    "autoscroll": "auto"
   },
   "outputs": [],
   "source": [
    "val data = spark.read\n",
    "                .option(\"header\", \"true\")\n",
    "                .option(\"inferSchema\", \"true\")\n",
    "                .option(\"sep\", \",\")\n",
    "                .csv(\"/notebook/tripadvisor_hotel_reviews.csv\")\n",
    "data.show(5)"
   ]
  },
  {
   "cell_type": "code",
   "execution_count": 2,
   "metadata": {
    "autoscroll": "auto"
   },
   "outputs": [],
   "source": [
    "val data_with_id = data.withColumn(\"review_id\", monotonically_increasing_id())\n",
    "                       .withColumn(\"Review\", regexp_replace(lower(col(\"Review\")), \"[^a-zA-Z0-9]+\", \" \"))\n",
    "                       .withColumn(\"Review\", trim(col(\"Review\")))\n",
    "                       .withColumnRenamed(\"Review\",\"review\")\n",
    "                       .withColumn(\"token\", explode(split(col(\"Review\"),\" \")))\n",
    "\n",
    "data_with_id.show(5)"
   ]
  },
  {
   "cell_type": "code",
   "execution_count": 3,
   "metadata": {
    "autoscroll": "auto"
   },
   "outputs": [],
   "source": [
    "val TF = data_with_id.groupBy(\"review_id\",\"token\")\n",
    "                     .agg(count(\"Review\") as \"tf\")\n",
    "                     .orderBy(\"review_id\")\n",
    "TF.show(5)\n"
   ]
  },
  {
   "cell_type": "code",
   "execution_count": 4,
   "metadata": {
    "autoscroll": "auto"
   },
   "outputs": [],
   "source": [
    "val DF = data_with_id.groupBy(\"token\")\n",
    "                     .agg(countDistinct(\"review_id\") as \"df\")\n",
    "                     .orderBy(desc(\"df\"))\n",
    "                     .limit(100)\n",
    "DF.show(5)"
   ]
  },
  {
   "cell_type": "code",
   "execution_count": 5,
   "metadata": {
    "autoscroll": "auto"
   },
   "outputs": [],
   "source": [
    "val reviewsNumber = data.count().toDouble\n",
    "val calcIdfUdf = udf { df: Long => math.log(reviewsNumber / (df.toDouble + 1))}\n",
    "val IDF = DF.withColumn(\"idf\", calcIdfUdf(col(\"df\")))\n",
    "IDF.show()"
   ]
  },
  {
   "cell_type": "code",
   "execution_count": 6,
   "metadata": {
    "autoscroll": "auto"
   },
   "outputs": [],
   "source": [
    "val TF_IDF = TF.join(IDF, Seq(\"token\"), \"inner\")\n",
    "               .withColumn(\"tf_idf\", col(\"tf\") * col(\"idf\"))\n",
    "TF_IDF.show()"
   ]
  },
  {
   "cell_type": "code",
   "execution_count": 7,
   "metadata": {
    "autoscroll": "auto"
   },
   "outputs": [],
   "source": [
    "val result = TF_IDF.groupBy(\"review_id\")\n",
    "                   .pivot(\"token\")\n",
    "                   .agg(round(first(col(\"tf_idf\"), ignoreNulls = true), 4))\n",
    "                   .orderBy(\"review_id\")\n",
    "                   \n",
    "result.show()\n",
    "          "
   ]
  }
 ],
 "metadata": {
  "kernelspec": {
   "display_name": "Python 3 (ipykernel)",
   "language": "python",
   "name": "python3"
  },
  "language_info": {
   "codemirror_mode": {
    "name": "ipython",
    "version": 3
   },
   "file_extension": ".py",
   "mimetype": "text/x-python",
   "name": "python",
   "nbconvert_exporter": "python",
   "pygments_lexer": "ipython3",
   "version": "3.8.5"
  }
 },
 "nbformat": 4,
 "nbformat_minor": 2
}
